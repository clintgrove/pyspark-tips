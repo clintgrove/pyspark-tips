{
 "cells": [
  {
   "cell_type": "markdown",
   "metadata": {
    "application/vnd.databricks.v1+cell": {
     "cellMetadata": {
      "byteLimit": 2048000,
      "rowLimit": 10000
     },
     "inputWidgets": {},
     "nuid": "af0cf5ec-045d-4e4c-9052-5053f1af34fb",
     "showTitle": false,
     "title": ""
    },
    "nteract": {
     "transient": {
      "deleting": false
     }
    }
   },
   "source": [
    "#### A Paramter code block so that you can feed in a different value from ADF pipeline"
   ]
  },
  {
   "cell_type": "code",
   "execution_count": 0,
   "metadata": {
    "application/vnd.databricks.v1+cell": {
     "cellMetadata": {
      "byteLimit": 2048000,
      "rowLimit": 10000
     },
     "inputWidgets": {},
     "nuid": "1a2a0597-07b7-4451-a755-04681c70d033",
     "showTitle": false,
     "title": ""
    }
   },
   "outputs": [],
   "source": [
    "dbutils.widgets.removeAll()\n"
   ]
  },
  {
   "cell_type": "code",
   "execution_count": 0,
   "metadata": {
    "application/vnd.databricks.v1+cell": {
     "cellMetadata": {
      "byteLimit": 2048000,
      "rowLimit": 10000
     },
     "inputWidgets": {},
     "nuid": "849eb02a-6b5b-48bb-adac-42b45512391a",
     "showTitle": false,
     "title": ""
    }
   },
   "outputs": [],
   "source": [
    "dbutils.widgets.text(\"FileName\", \"contacts_20221022_0938_29_Contacts.csv\") #'feed parameter value in from ADF or synapse pipeline'"
   ]
  },
  {
   "cell_type": "code",
   "execution_count": 0,
   "metadata": {
    "application/vnd.databricks.v1+cell": {
     "cellMetadata": {
      "byteLimit": 2048000,
      "rowLimit": 10000
     },
     "inputWidgets": {},
     "nuid": "38643c62-e42a-4667-bd5e-ab32b6f3a690",
     "showTitle": false,
     "title": ""
    }
   },
   "outputs": [],
   "source": [
    "dataFileName = dbutils.widgets.get(\"FileName\")"
   ]
  },
  {
   "cell_type": "code",
   "execution_count": 0,
   "metadata": {
    "application/vnd.databricks.v1+cell": {
     "cellMetadata": {
      "byteLimit": 2048000,
      "rowLimit": 10000
     },
     "inputWidgets": {},
     "nuid": "877a1a56-4107-48b8-bc28-ff1991ba3e09",
     "showTitle": false,
     "title": ""
    },
    "nteract": {
     "transient": {
      "deleting": false
     }
    }
   },
   "outputs": [],
   "source": [
    "from pyspark.sql.types import *\n",
    "from pyspark.sql.functions import *\n",
    "import datetime as dt\n",
    "from delta import configure_spark_with_delta_pip\n",
    "import delta\n",
    "from delta.tables import *"
   ]
  },
  {
   "cell_type": "markdown",
   "metadata": {
    "application/vnd.databricks.v1+cell": {
     "cellMetadata": {
      "byteLimit": 2048000,
      "rowLimit": 10000
     },
     "inputWidgets": {},
     "nuid": "54dc2fe6-567e-414c-89c1-75ca590534a2",
     "showTitle": false,
     "title": ""
    },
    "nteract": {
     "transient": {
      "deleting": false
     }
    }
   },
   "source": [
    "#### Make a database called \"deltathis\" \r\n",
    "if using Synapse it will appear under your Lake database under Data/Workspace (as long as your cluster is running)"
   ]
  },
  {
   "cell_type": "code",
   "execution_count": 0,
   "metadata": {
    "application/vnd.databricks.v1+cell": {
     "cellMetadata": {
      "byteLimit": 2048000,
      "rowLimit": 10000
     },
     "inputWidgets": {},
     "nuid": "6541ffee-697c-4652-a279-438b01770a25",
     "showTitle": false,
     "title": ""
    },
    "collapsed": false,
    "nteract": {
     "transient": {
      "deleting": false
     }
    }
   },
   "outputs": [
    {
     "output_type": "stream",
     "name": "stdout",
     "output_type": "stream",
     "text": [
      "Database 'deltaondbricks' already exists.\n"
     ]
    }
   ],
   "source": [
    "db_name = \"deltaondbricks\"\n",
    "\n",
    "if db_name not in [db.name for db in spark.catalog.listDatabases()]:\n",
    "    spark.sql(f\"CREATE DATABASE {db_name}\")\n",
    "else:\n",
    "    print(f\"Database '{db_name}' already exists.\")"
   ]
  },
  {
   "cell_type": "markdown",
   "metadata": {
    "application/vnd.databricks.v1+cell": {
     "cellMetadata": {
      "byteLimit": 2048000,
      "rowLimit": 10000
     },
     "inputWidgets": {},
     "nuid": "7d3b7d79-5b80-482c-b15a-f37bd5db3912",
     "showTitle": false,
     "title": ""
    },
    "nteract": {
     "transient": {
      "deleting": false
     }
    }
   },
   "source": [
    "#### Make a table on the database\r\n",
    "It has a well defined structure with data types"
   ]
  },
  {
   "cell_type": "code",
   "execution_count": 0,
   "metadata": {
    "application/vnd.databricks.v1+cell": {
     "cellMetadata": {
      "byteLimit": 2048000,
      "rowLimit": 10000
     },
     "inputWidgets": {},
     "nuid": "d6dfe976-ee94-48f2-b072-53c051a8c6f2",
     "showTitle": false,
     "title": ""
    },
    "nteract": {
     "transient": {
      "deleting": false
     }
    }
   },
   "outputs": [
    {
     "output_type": "stream",
     "name": "stdout",
     "output_type": "stream",
     "text": [
      "Table exists. Proceeding with the code.\n"
     ]
    }
   ],
   "source": [
    "if spark.catalog.tableExists('{0}.contacts'.format(db_name)):\n",
    "    print(\"Table exists. Proceeding with the code.\")\n",
    "else:\n",
    "    # Create the live contacts table\n",
    "    # Define the schema\n",
    "    print(\"making the contacts table\")\n",
    "    schema = StructType([\n",
    "        StructField(\"ConstituentID\", StringType()),\n",
    "        StructField(\"FirstName\", StringType()),\n",
    "        StructField(\"KeyName\", StringType()),\n",
    "        StructField(\"MiddleName\", StringType()),\n",
    "        StructField(\"MaidenName\", StringType()),\n",
    "        StructField(\"Nickname\", StringType()),\n",
    "        StructField(\"Birthdate\", DateType()),\n",
    "        StructField(\"Gender\", StringType()),\n",
    "        StructField(\"LookupID\", StringType()),\n",
    "        StructField(\"Title1\", StringType()),\n",
    "        StructField(\"Title2\", StringType()),\n",
    "        StructField(\"Suffix1\", StringType()),\n",
    "        StructField(\"Suffix2\", StringType()),\n",
    "        StructField(\"DeceasedDate\", DateType()),\n",
    "        StructField(\"IsDeceased\", StringType()),\n",
    "        StructField(\"Status\", StringType()),\n",
    "        StructField(\"InactiveReason\", StringType()),\n",
    "        StructField(\"GivesAnonymously\", StringType()),\n",
    "        StructField(\"SpouseID\", StringType()),\n",
    "        StructField(\"Area\", StringType()),\n",
    "        StructField(\"AreaManager\", StringType()),\n",
    "        StructField(\"Patch\", StringType()),\n",
    "        StructField(\"PatchManager\", StringType()),\n",
    "        StructField(\"DateAdded\", TimestampType()),\n",
    "        StructField(\"DateChanged\", TimestampType()),\n",
    "        StructField(\"PrimaryEmail\", StringType()),\n",
    "        StructField(\"PrimaryPostcode\", StringType()),\n",
    "        StructField(\"Name\", StringType()),\n",
    "        StructField(\"Delete\", StringType()),\n",
    "        StructField(\"YYYY\", IntegerType()),\n",
    "        StructField(\"MM\", IntegerType()),\n",
    "        StructField(\"DD\", IntegerType()),\n",
    "        StructField(\"HH\", IntegerType())\n",
    "    ])\n",
    "\n",
    "    # Create an empty DataFrame with the schema\n",
    "    df = spark.createDataFrame([], schema)\n",
    "\n",
    "    # Write the DataFrame to a Delta Lake table\n",
    "    df.write.partitionBy(\"YYYY\", \"MM\").format(\"delta\").mode(\"overwrite\").option(\"overwriteSchema\", \"true\").saveAsTable(\"{0}.contacts\".format(db_name))\n",
    "\n"
   ]
  },
  {
   "cell_type": "markdown",
   "metadata": {
    "application/vnd.databricks.v1+cell": {
     "cellMetadata": {
      "byteLimit": 2048000,
      "rowLimit": 10000
     },
     "inputWidgets": {},
     "nuid": "f2121dc3-2076-4548-aadd-1ada0fbde0d1",
     "showTitle": false,
     "title": ""
    },
    "nteract": {
     "transient": {
      "deleting": false
     }
    }
   },
   "source": []
  },
  {
   "cell_type": "code",
   "execution_count": 0,
   "metadata": {
    "application/vnd.databricks.v1+cell": {
     "cellMetadata": {
      "byteLimit": 2048000,
      "rowLimit": 10000
     },
     "inputWidgets": {},
     "nuid": "72c75808-fbbc-4b43-9e8f-8e0d47200d5e",
     "showTitle": false,
     "title": ""
    },
    "collapsed": false,
    "nteract": {
     "transient": {
      "deleting": false
     }
    }
   },
   "outputs": [
    {
     "output_type": "display_data",
     "data": {
      "text/html": [
       "<style scoped>\n",
       "  .table-result-container {\n",
       "    max-height: 300px;\n",
       "    overflow: auto;\n",
       "  }\n",
       "  table, th, td {\n",
       "    border: 1px solid black;\n",
       "    border-collapse: collapse;\n",
       "  }\n",
       "  th, td {\n",
       "    padding: 5px;\n",
       "  }\n",
       "  th {\n",
       "    text-align: left;\n",
       "  }\n",
       "</style><div class='table-result-container'><table class='table-result'><thead style='background-color: white'><tr><th>ConstituentID</th><th>FirstName</th><th>KeyName</th><th>MiddleName</th><th>MaidenName</th><th>Nickname</th><th>Birthdate</th><th>Gender</th><th>LookupID</th><th>Title1</th><th>Title2</th><th>Suffix1</th><th>Suffix2</th><th>DeceasedDate</th><th>IsDeceased</th><th>Status</th><th>InactiveReason</th><th>GivesAnonymously</th><th>SpouseID</th><th>Area</th><th>AreaManager</th><th>Patch</th><th>PatchManager</th><th>DateAdded</th><th>DateChanged</th><th>PrimaryEmail</th><th>PrimaryPostcode</th><th>Name</th><th>Delete</th><th>YYYY</th><th>MM</th><th>DD</th><th>HH</th></tr></thead><tbody><tr><td>00985d29-24a2-4710-8021-00201b4c518c</td><td>Adriel </td><td> Wilson</td><td>null</td><td>null</td><td>null</td><td>02/10/1978</td><td>Female</td><td>8-19456944</td><td>Dr</td><td>null</td><td>null</td><td>null</td><td>null</td><td>No</td><td>Active</td><td>null</td><td>No</td><td>null</td><td>null</td><td>null</td><td>null</td><td>null</td><td>2022-10-21 09:39:01</td><td>2022-10-22 09:39:01</td><td>null</td><td>NR9 4HT</td><td>Adriel Wilson</td><td>No</td><td>2022</td><td>10</td><td>22</td><td>09</td></tr><tr><td>1234a4ea-7126-4064-8aa2-00607be1cfdb</td><td>Rolands</td><td>Gaspar</td><td>null</td><td>null</td><td>null</td><td>22/10/1978</td><td>Female</td><td>8-12987664</td><td>Mrs</td><td>null</td><td>null</td><td>null</td><td>null</td><td>No</td><td>Active</td><td>null</td><td>No</td><td>null</td><td>null</td><td>null</td><td>null</td><td>null</td><td>2022-10-21 09:39:01</td><td>2022-10-22 09:39:01</td><td>null</td><td>IG3 9TA</td><td>Rolands Gaspar</td><td>No</td><td>2022</td><td>10</td><td>22</td><td>09</td></tr><tr><td>00b4a5af-c37b-4fe4-9dbb-005c4a1894f7</td><td>Beau </td><td> White</td><td>null</td><td>null</td><td>null</td><td>22/10/1979</td><td>Male</td><td>8-18761139</td><td>Mr</td><td>null</td><td>null</td><td>null</td><td>null</td><td>No</td><td>Active</td><td>null</td><td>No</td><td>null</td><td>Northern Ireland and Wales</td><td>null</td><td>null</td><td>null</td><td>2022-10-21 09:39:01</td><td>2022-10-22 09:39:01</td><td>BeauTheMan@manomano.com</td><td>L23 0TE</td><td>Beau White</td><td>No</td><td>2022</td><td>10</td><td>22</td><td>09</td></tr></tbody></table></div>"
      ]
     },
     "metadata": {
      "application/vnd.databricks.v1+output": {
       "addedWidgets": {},
       "aggData": [],
       "aggError": "",
       "aggOverflow": false,
       "aggSchema": [],
       "aggSeriesLimitReached": false,
       "aggType": "",
       "arguments": {},
       "columnCustomDisplayInfos": {},
       "data": [
        [
         "00985d29-24a2-4710-8021-00201b4c518c",
         "Adriel ",
         " Wilson",
         null,
         null,
         null,
         "02/10/1978",
         "Female",
         "8-19456944",
         "Dr",
         null,
         null,
         null,
         null,
         "No",
         "Active",
         null,
         "No",
         null,
         null,
         null,
         null,
         null,
         "2022-10-21 09:39:01",
         "2022-10-22 09:39:01",
         null,
         "NR9 4HT",
         "Adriel Wilson",
         "No",
         "2022",
         "10",
         "22",
         "09"
        ],
        [
         "1234a4ea-7126-4064-8aa2-00607be1cfdb",
         "Rolands",
         "Gaspar",
         null,
         null,
         null,
         "22/10/1978",
         "Female",
         "8-12987664",
         "Mrs",
         null,
         null,
         null,
         null,
         "No",
         "Active",
         null,
         "No",
         null,
         null,
         null,
         null,
         null,
         "2022-10-21 09:39:01",
         "2022-10-22 09:39:01",
         null,
         "IG3 9TA",
         "Rolands Gaspar",
         "No",
         "2022",
         "10",
         "22",
         "09"
        ],
        [
         "00b4a5af-c37b-4fe4-9dbb-005c4a1894f7",
         "Beau ",
         " White",
         null,
         null,
         null,
         "22/10/1979",
         "Male",
         "8-18761139",
         "Mr",
         null,
         null,
         null,
         null,
         "No",
         "Active",
         null,
         "No",
         null,
         "Northern Ireland and Wales",
         null,
         null,
         null,
         "2022-10-21 09:39:01",
         "2022-10-22 09:39:01",
         "BeauTheMan@manomano.com",
         "L23 0TE",
         "Beau White",
         "No",
         "2022",
         "10",
         "22",
         "09"
        ]
       ],
       "datasetInfos": [],
       "dbfsResultPath": null,
       "isJsonSchema": true,
       "metadata": {},
       "overflow": false,
       "plotOptions": {
        "customPlotOptions": {},
        "displayType": "table",
        "pivotAggregation": null,
        "pivotColumns": null,
        "xColumns": null,
        "yColumns": null
       },
       "removedWidgets": [],
       "schema": [
        {
         "metadata": "{}",
         "name": "ConstituentID",
         "type": "\"string\""
        },
        {
         "metadata": "{}",
         "name": "FirstName",
         "type": "\"string\""
        },
        {
         "metadata": "{}",
         "name": "KeyName",
         "type": "\"string\""
        },
        {
         "metadata": "{}",
         "name": "MiddleName",
         "type": "\"string\""
        },
        {
         "metadata": "{}",
         "name": "MaidenName",
         "type": "\"string\""
        },
        {
         "metadata": "{}",
         "name": "Nickname",
         "type": "\"string\""
        },
        {
         "metadata": "{}",
         "name": "Birthdate",
         "type": "\"string\""
        },
        {
         "metadata": "{}",
         "name": "Gender",
         "type": "\"string\""
        },
        {
         "metadata": "{}",
         "name": "LookupID",
         "type": "\"string\""
        },
        {
         "metadata": "{}",
         "name": "Title1",
         "type": "\"string\""
        },
        {
         "metadata": "{}",
         "name": "Title2",
         "type": "\"string\""
        },
        {
         "metadata": "{}",
         "name": "Suffix1",
         "type": "\"string\""
        },
        {
         "metadata": "{}",
         "name": "Suffix2",
         "type": "\"string\""
        },
        {
         "metadata": "{}",
         "name": "DeceasedDate",
         "type": "\"string\""
        },
        {
         "metadata": "{}",
         "name": "IsDeceased",
         "type": "\"string\""
        },
        {
         "metadata": "{}",
         "name": "Status",
         "type": "\"string\""
        },
        {
         "metadata": "{}",
         "name": "InactiveReason",
         "type": "\"string\""
        },
        {
         "metadata": "{}",
         "name": "GivesAnonymously",
         "type": "\"string\""
        },
        {
         "metadata": "{}",
         "name": "SpouseID",
         "type": "\"string\""
        },
        {
         "metadata": "{}",
         "name": "Area",
         "type": "\"string\""
        },
        {
         "metadata": "{}",
         "name": "AreaManager",
         "type": "\"string\""
        },
        {
         "metadata": "{}",
         "name": "Patch",
         "type": "\"string\""
        },
        {
         "metadata": "{}",
         "name": "PatchManager",
         "type": "\"string\""
        },
        {
         "metadata": "{}",
         "name": "DateAdded",
         "type": "\"string\""
        },
        {
         "metadata": "{}",
         "name": "DateChanged",
         "type": "\"string\""
        },
        {
         "metadata": "{}",
         "name": "PrimaryEmail",
         "type": "\"string\""
        },
        {
         "metadata": "{}",
         "name": "PrimaryPostcode",
         "type": "\"string\""
        },
        {
         "metadata": "{}",
         "name": "Name",
         "type": "\"string\""
        },
        {
         "metadata": "{}",
         "name": "Delete",
         "type": "\"string\""
        },
        {
         "metadata": "{}",
         "name": "YYYY",
         "type": "\"string\""
        },
        {
         "metadata": "{}",
         "name": "MM",
         "type": "\"string\""
        },
        {
         "metadata": "{}",
         "name": "DD",
         "type": "\"string\""
        },
        {
         "metadata": "{}",
         "name": "HH",
         "type": "\"string\""
        }
       ],
       "type": "table"
      }
     },
     "output_type": "display_data"
    }
   ],
   "source": [
    "#df = spark.read.load('abfss://deltademo@stguksclintonpmsft2.dfs.core.windows.net/contacts-deltathis/{0}'.format(dataFileName), format='csv', header=True)\n",
    "df = spark.read.load('/mnt/deltademo/contacts-deltathis/{0}'.format(dataFileName), format='csv', header=True)\n",
    "\n",
    "dataFileName = dataFileName.split('_',2)\n",
    "df = df \\\n",
    "    .withColumn(\"YYYY\",lit(dataFileName[1][0:4])) \\\n",
    "    .withColumn(\"MM\",lit(dataFileName[1][4:6])) \\\n",
    "    .withColumn(\"DD\",lit(dataFileName[1][6:8])) \\\n",
    "    .withColumn(\"HH\",lit(dataFileName[2][0:2]))\n",
    "display(df)"
   ]
  },
  {
   "cell_type": "markdown",
   "metadata": {
    "application/vnd.databricks.v1+cell": {
     "cellMetadata": {
      "byteLimit": 2048000,
      "rowLimit": 10000
     },
     "inputWidgets": {},
     "nuid": "832d489e-a1fb-4470-8d43-eca7fb87fa20",
     "showTitle": false,
     "title": ""
    },
    "nteract": {
     "transient": {
      "deleting": false
     }
    }
   },
   "source": [
    "#### Land the data first from the source\r\n",
    "You should land the data in your delta lake. Call this landing area anything you would like. \r\n",
    "You can call it raw, raw_delta or cleansedstaging. \r\n",
    "\r\n",
    "An important piece to note about writing to the \"path\" in the code below is that it physically writes to the Storage account at the same time as writing to the Lake Database which is in memory on the spark compute"
   ]
  },
  {
   "cell_type": "code",
   "execution_count": 0,
   "metadata": {
    "application/vnd.databricks.v1+cell": {
     "cellMetadata": {
      "byteLimit": 2048000,
      "rowLimit": 10000
     },
     "inputWidgets": {},
     "nuid": "8b574e6e-1929-4484-8ffa-d7e254fb6aee",
     "showTitle": false,
     "title": ""
    },
    "nteract": {
     "transient": {
      "deleting": false
     }
    }
   },
   "outputs": [],
   "source": [
    "## To write as an External Table at the same time you can set the Path. See the code below and the code commented out at the end of the last line\n",
    "## If you do not specify anything then the table becomes a \"Managed Table\" inside Databricks on the cluster. \n",
    "#pathcleansed = '/mnt/delta-contacts/cleansedstaging_bricks'\n",
    "nextdaydata = df\n",
    "nextdaydata.write.format(\"delta\").saveAsTable('{0}.staging_contacts'.format(db_name), mode='overwrite') #,path=pathcleansed)"
   ]
  },
  {
   "cell_type": "markdown",
   "metadata": {
    "application/vnd.databricks.v1+cell": {
     "cellMetadata": {
      "byteLimit": 2048000,
      "rowLimit": 10000
     },
     "inputWidgets": {},
     "nuid": "ca0c62ae-644c-4625-8ba1-65e0525f4787",
     "showTitle": false,
     "title": ""
    },
    "nteract": {
     "transient": {
      "deleting": false
     }
    }
   },
   "source": [
    "#### Use the Merge function from Delta Lake\r\n",
    "Here you take the landed data in cleansedstaging and you do a merge statement so that your final table (in this demo, the final table for demonstration purposes is cleansed).\r\n",
    "\r\n",
    "The matching condition is on the ConstituentID, this is the primary key associated with every \"contact\". Its their unique ID.\r\n",
    "\r\n",
    "If the record (row) has a Delete value of Yes, then it will be deleted otherwise if its new, its an insert and if it exists it will be an update"
   ]
  },
  {
   "cell_type": "code",
   "execution_count": 0,
   "metadata": {
    "application/vnd.databricks.v1+cell": {
     "cellMetadata": {
      "byteLimit": 2048000,
      "rowLimit": 10000
     },
     "inputWidgets": {},
     "nuid": "51041c5f-b9f4-438a-95e9-eca29801df50",
     "showTitle": false,
     "title": ""
    },
    "nteract": {
     "transient": {
      "deleting": false
     }
    }
   },
   "outputs": [],
   "source": [
    "from pyspark.sql.functions import *\n",
    "\n",
    "dfex = DeltaTable.forName(spark, 'deltaondbricks.contacts')\n",
    "dfnew = DeltaTable.forName(spark, 'deltaondbricks.staging_contacts')\n",
    "\n",
    "dfnew = dfnew.toDF()\n",
    "dfnew = dfnew \\\n",
    "      .withColumn(\"Birthdate\", to_date(\"Birthdate\", \"dd/MM/yyyy\")) \\\n",
    "      .withColumn(\"DeceasedDate\", to_date(\"DeceasedDate\",\"dd/MM/yyyy\")) \\\n",
    "      .withColumn(\"DateAdded\", to_timestamp(\"DateAdded\", \"dd/MM/yyyy HH:mm\")) \\\n",
    "      .withColumn(\"DateChanged\", to_timestamp(\"DateChanged\", \"dd/MM/yyyy HH:mm\"))\n",
    "dfex.alias('dfex').merge(dfnew.alias('dfnew'), 'dfex.ConstituentID = dfnew.ConstituentID') \\\n",
    "    .whenMatchedDelete(condition=\"dfnew.Delete = 'Yes'\") \\\n",
    "    .whenMatchedUpdate(set={\n",
    "    \"ConstituentID\": \"dfnew.ConstituentID\",\n",
    "    \"FirstName\": \"dfnew.FirstName\",\n",
    "    \"KeyName\": \"dfnew.KeyName\",\n",
    "    \"MiddleName\": \"dfnew.MiddleName\",\n",
    "    \"MaidenName\": \"dfnew.MaidenName\",\n",
    "    \"Nickname\": \"dfnew.Nickname\",\n",
    "    \"Birthdate\": \"dfnew.Birthdate\",\n",
    "    \"Gender\": \"dfnew.Gender\",\n",
    "    \"LookupID\": \"dfnew.LookupID\",\n",
    "    \"Title1\": \"dfnew.Title1\",\n",
    "    \"Title2\": \"dfnew.Title2\",\n",
    "    \"Suffix1\": \"dfnew.Suffix1\",\n",
    "    \"Suffix2\": \"dfnew.Suffix2\",\n",
    "    \"DeceasedDate\": \"dfnew.DeceasedDate\",\n",
    "    \"IsDeceased\": \"dfnew.IsDeceased\",\n",
    "    \"Status\": \"dfnew.Status\",\n",
    "    \"InactiveReason\": \"dfnew.InactiveReason\",\n",
    "    \"GivesAnonymously\": \"dfnew.GivesAnonymously\",\n",
    "    \"SpouseID\": \"dfnew.SpouseID\",\n",
    "    \"Area\": \"dfnew.Area\",\n",
    "    \"AreaManager\": \"dfnew.AreaManager\",\n",
    "    \"Patch\": \"dfnew.Patch\",\n",
    "    \"PatchManager\": \"dfnew.PatchManager\",\n",
    "    \"DateAdded\": \"dfnew.DateAdded\",\n",
    "    \"DateChanged\": \"dfnew.DateChanged\",\n",
    "    \"PrimaryEmail\": \"dfnew.PrimaryEmail\",\n",
    "    \"PrimaryPostcode\": \"dfnew.PrimaryPostcode\",\n",
    "    \"Name\": \"dfnew.Name\",\n",
    "    \"Delete\": \"dfnew.Delete\",\n",
    "    \"YYYY\": \"dfnew.YYYY\",\n",
    "    \"MM\": \"dfnew.MM\",\n",
    "    \"DD\": \"dfnew.DD\",\n",
    "    \"HH\": \"dfnew.HH\"\n",
    "}) \\\n",
    "    .whenNotMatchedInsert(values={\n",
    "    \"ConstituentID\": \"dfnew.ConstituentID\",\n",
    "    \"FirstName\": \"dfnew.FirstName\",\n",
    "    \"KeyName\": \"dfnew.KeyName\",\n",
    "    \"MiddleName\": \"dfnew.MiddleName\",\n",
    "    \"MaidenName\": \"dfnew.MaidenName\",\n",
    "    \"Nickname\": \"dfnew.Nickname\",\n",
    "    \"Birthdate\": \"dfnew.Birthdate\",\n",
    "    \"Gender\": \"dfnew.Gender\",\n",
    "    \"LookupID\": \"dfnew.LookupID\",\n",
    "    \"Title1\": \"dfnew.Title1\",\n",
    "    \"Title2\": \"dfnew.Title2\",\n",
    "    \"Suffix1\": \"dfnew.Suffix1\",\n",
    "    \"Suffix2\": \"dfnew.Suffix2\",\n",
    "    \"DeceasedDate\": \"dfnew.DeceasedDate\",\n",
    "    \"IsDeceased\": \"dfnew.IsDeceased\",\n",
    "    \"Status\": \"dfnew.Status\",\n",
    "    \"InactiveReason\": \"dfnew.InactiveReason\",\n",
    "    \"GivesAnonymously\": \"dfnew.GivesAnonymously\",\n",
    "    \"SpouseID\": \"dfnew.SpouseID\",\n",
    "    \"Area\": \"dfnew.Area\",\n",
    "    \"AreaManager\": \"dfnew.AreaManager\",\n",
    "    \"Patch\": \"dfnew.Patch\",\n",
    "    \"PatchManager\": \"dfnew.PatchManager\",\n",
    "    \"DateAdded\": \"dfnew.DateAdded\",\n",
    "    \"DateChanged\": \"dfnew.DateChanged\",\n",
    "    \"PrimaryEmail\": \"dfnew.PrimaryEmail\",\n",
    "    \"PrimaryPostcode\": \"dfnew.PrimaryPostcode\",\n",
    "    \"Name\": \"dfnew.Name\",\n",
    "    \"Delete\": \"dfnew.Delete\",\n",
    "    \"YYYY\": \"dfnew.YYYY\",\n",
    "    \"MM\": \"dfnew.MM\",\n",
    "    \"DD\": \"dfnew.DD\",\n",
    "    \"HH\": \"dfnew.HH\"\n",
    "}) \\\n",
    "    .execute()"
   ]
  },
  {
   "cell_type": "code",
   "execution_count": 0,
   "metadata": {
    "application/vnd.databricks.v1+cell": {
     "cellMetadata": {
      "byteLimit": 2048000,
      "implicitDf": true,
      "rowLimit": 10000
     },
     "inputWidgets": {},
     "nuid": "d930199a-315f-4888-8745-b3baf815cc07",
     "showTitle": false,
     "title": ""
    },
    "collapsed": false,
    "microsoft": {
     "language": "sparksql"
    },
    "nteract": {
     "transient": {
      "deleting": false
     }
    }
   },
   "outputs": [
    {
     "output_type": "display_data",
     "data": {
      "text/html": [
       "<style scoped>\n",
       "  .table-result-container {\n",
       "    max-height: 300px;\n",
       "    overflow: auto;\n",
       "  }\n",
       "  table, th, td {\n",
       "    border: 1px solid black;\n",
       "    border-collapse: collapse;\n",
       "  }\n",
       "  th, td {\n",
       "    padding: 5px;\n",
       "  }\n",
       "  th {\n",
       "    text-align: left;\n",
       "  }\n",
       "</style><div class='table-result-container'><table class='table-result'><thead style='background-color: white'><tr><th>ConstituentID</th><th>FirstName</th><th>KeyName</th><th>MiddleName</th><th>MaidenName</th><th>Nickname</th><th>Birthdate</th><th>Gender</th><th>LookupID</th><th>Title1</th><th>Title2</th><th>Suffix1</th><th>Suffix2</th><th>DeceasedDate</th><th>IsDeceased</th><th>Status</th><th>InactiveReason</th><th>GivesAnonymously</th><th>SpouseID</th><th>Area</th><th>AreaManager</th><th>Patch</th><th>PatchManager</th><th>DateAdded</th><th>DateChanged</th><th>PrimaryEmail</th><th>PrimaryPostcode</th><th>Name</th><th>Delete</th><th>YYYY</th><th>MM</th><th>DD</th><th>HH</th></tr></thead><tbody><tr><td>007dcfaf-c408-4542-87ab-00b1100b9372</td><td>Jacob </td><td> Adams</td><td>null</td><td>null</td><td>null</td><td>null</td><td>Male</td><td>8-20785661</td><td>Mr</td><td>null</td><td>null</td><td>null</td><td>null</td><td>No</td><td>Active</td><td>null</td><td>No</td><td>null</td><td>null</td><td>null</td><td>null</td><td>null</td><td>null</td><td>null</td><td>4051ttt966@sky.com</td><td>L31 1GB</td><td>Jacob Adams</td><td>No</td><td>2022</td><td>10</td><td>21</td><td>9</td></tr><tr><td>007bc6fb-1034-475e-9cd0-0055ccd99966</td><td>Aaron </td><td> McKenna</td><td>null</td><td>null</td><td>null</td><td>1981-03-22</td><td>Female</td><td>8-18864825</td><td>Mrs</td><td>null</td><td>null</td><td>null</td><td>null</td><td>No</td><td>Active</td><td>null</td><td>No</td><td>null</td><td>null</td><td>null</td><td>null</td><td>null</td><td>2022-10-20T09:38:00Z</td><td>2022-10-20T09:38:00Z</td><td>null</td><td>NN4 5DQ</td><td>Aaron McKenna</td><td>No</td><td>2022</td><td>10</td><td>20</td><td>9</td></tr><tr><td>009ff12f-2d8a-415e-a79e-00be92248066</td><td>Adonis </td><td> Jenkins</td><td>null</td><td>null</td><td>null</td><td>1981-05-04</td><td>Female</td><td>8-20835820</td><td>Ms</td><td>null</td><td>null</td><td>null</td><td>null</td><td>No</td><td>Active</td><td>null</td><td>No</td><td>null</td><td>null</td><td>null</td><td>null</td><td>null</td><td>2022-10-20T09:38:00Z</td><td>2022-10-20T09:38:00Z</td><td>null</td><td>N11 2PN</td><td>Adonis Jenkins</td><td>No</td><td>2022</td><td>10</td><td>20</td><td>9</td></tr><tr><td>011acbe9-b5d0-491b-b5be-00c3ea89b111</td><td>Jade </td><td> Smith</td><td>John</td><td>null</td><td>null</td><td>1981-05-06</td><td>Male</td><td>8-12632758</td><td>Mr</td><td>null</td><td>null</td><td>null</td><td>null</td><td>No</td><td>Active</td><td>null</td><td>No</td><td>null</td><td>null</td><td>null</td><td>null</td><td>null</td><td>2022-10-20T09:38:00Z</td><td>2022-10-20T09:38:00Z</td><td>DDC3214026@gmail.com</td><td>GU10 4DY</td><td>Jade Smith</td><td>No</td><td>2022</td><td>10</td><td>20</td><td>9</td></tr><tr><td>00985d29-24a2-4710-8021-00201b4c518c</td><td>Adriel </td><td> Wilson</td><td>null</td><td>null</td><td>null</td><td>1978-10-02</td><td>Female</td><td>8-19456944</td><td>Dr</td><td>null</td><td>null</td><td>null</td><td>null</td><td>No</td><td>Active</td><td>null</td><td>No</td><td>null</td><td>null</td><td>null</td><td>null</td><td>null</td><td>null</td><td>null</td><td>null</td><td>NR9 4HT</td><td>Adriel Wilson</td><td>No</td><td>2022</td><td>10</td><td>22</td><td>9</td></tr><tr><td>1234a4ea-7126-4064-8aa2-00607be1cfdb</td><td>Rolands</td><td>Gaspar</td><td>null</td><td>null</td><td>null</td><td>1978-10-22</td><td>Female</td><td>8-12987664</td><td>Mrs</td><td>null</td><td>null</td><td>null</td><td>null</td><td>No</td><td>Active</td><td>null</td><td>No</td><td>null</td><td>null</td><td>null</td><td>null</td><td>null</td><td>null</td><td>null</td><td>null</td><td>IG3 9TA</td><td>Rolands Gaspar</td><td>No</td><td>2022</td><td>10</td><td>22</td><td>9</td></tr><tr><td>00b4a5af-c37b-4fe4-9dbb-005c4a1894f7</td><td>Beau </td><td> White</td><td>null</td><td>null</td><td>null</td><td>1979-10-22</td><td>Male</td><td>8-18761139</td><td>Mr</td><td>null</td><td>null</td><td>null</td><td>null</td><td>No</td><td>Active</td><td>null</td><td>No</td><td>null</td><td>Northern Ireland and Wales</td><td>null</td><td>null</td><td>null</td><td>null</td><td>null</td><td>BeauTheMan@manomano.com</td><td>L23 0TE</td><td>Beau White</td><td>No</td><td>2022</td><td>10</td><td>22</td><td>9</td></tr></tbody></table></div>"
      ]
     },
     "metadata": {
      "application/vnd.databricks.v1+output": {
       "addedWidgets": {},
       "aggData": [],
       "aggError": "",
       "aggOverflow": false,
       "aggSchema": [],
       "aggSeriesLimitReached": false,
       "aggType": "",
       "arguments": {},
       "columnCustomDisplayInfos": {},
       "data": [
        [
         "007dcfaf-c408-4542-87ab-00b1100b9372",
         "Jacob ",
         " Adams",
         null,
         null,
         null,
         null,
         "Male",
         "8-20785661",
         "Mr",
         null,
         null,
         null,
         null,
         "No",
         "Active",
         null,
         "No",
         null,
         null,
         null,
         null,
         null,
         null,
         null,
         "4051ttt966@sky.com",
         "L31 1GB",
         "Jacob Adams",
         "No",
         2022,
         10,
         21,
         9
        ],
        [
         "007bc6fb-1034-475e-9cd0-0055ccd99966",
         "Aaron ",
         " McKenna",
         null,
         null,
         null,
         "1981-03-22",
         "Female",
         "8-18864825",
         "Mrs",
         null,
         null,
         null,
         null,
         "No",
         "Active",
         null,
         "No",
         null,
         null,
         null,
         null,
         null,
         "2022-10-20T09:38:00Z",
         "2022-10-20T09:38:00Z",
         null,
         "NN4 5DQ",
         "Aaron McKenna",
         "No",
         2022,
         10,
         20,
         9
        ],
        [
         "009ff12f-2d8a-415e-a79e-00be92248066",
         "Adonis ",
         " Jenkins",
         null,
         null,
         null,
         "1981-05-04",
         "Female",
         "8-20835820",
         "Ms",
         null,
         null,
         null,
         null,
         "No",
         "Active",
         null,
         "No",
         null,
         null,
         null,
         null,
         null,
         "2022-10-20T09:38:00Z",
         "2022-10-20T09:38:00Z",
         null,
         "N11 2PN",
         "Adonis Jenkins",
         "No",
         2022,
         10,
         20,
         9
        ],
        [
         "011acbe9-b5d0-491b-b5be-00c3ea89b111",
         "Jade ",
         " Smith",
         "John",
         null,
         null,
         "1981-05-06",
         "Male",
         "8-12632758",
         "Mr",
         null,
         null,
         null,
         null,
         "No",
         "Active",
         null,
         "No",
         null,
         null,
         null,
         null,
         null,
         "2022-10-20T09:38:00Z",
         "2022-10-20T09:38:00Z",
         "DDC3214026@gmail.com",
         "GU10 4DY",
         "Jade Smith",
         "No",
         2022,
         10,
         20,
         9
        ],
        [
         "00985d29-24a2-4710-8021-00201b4c518c",
         "Adriel ",
         " Wilson",
         null,
         null,
         null,
         "1978-10-02",
         "Female",
         "8-19456944",
         "Dr",
         null,
         null,
         null,
         null,
         "No",
         "Active",
         null,
         "No",
         null,
         null,
         null,
         null,
         null,
         null,
         null,
         null,
         "NR9 4HT",
         "Adriel Wilson",
         "No",
         2022,
         10,
         22,
         9
        ],
        [
         "1234a4ea-7126-4064-8aa2-00607be1cfdb",
         "Rolands",
         "Gaspar",
         null,
         null,
         null,
         "1978-10-22",
         "Female",
         "8-12987664",
         "Mrs",
         null,
         null,
         null,
         null,
         "No",
         "Active",
         null,
         "No",
         null,
         null,
         null,
         null,
         null,
         null,
         null,
         null,
         "IG3 9TA",
         "Rolands Gaspar",
         "No",
         2022,
         10,
         22,
         9
        ],
        [
         "00b4a5af-c37b-4fe4-9dbb-005c4a1894f7",
         "Beau ",
         " White",
         null,
         null,
         null,
         "1979-10-22",
         "Male",
         "8-18761139",
         "Mr",
         null,
         null,
         null,
         null,
         "No",
         "Active",
         null,
         "No",
         null,
         "Northern Ireland and Wales",
         null,
         null,
         null,
         null,
         null,
         "BeauTheMan@manomano.com",
         "L23 0TE",
         "Beau White",
         "No",
         2022,
         10,
         22,
         9
        ]
       ],
       "datasetInfos": [],
       "dbfsResultPath": null,
       "isJsonSchema": true,
       "metadata": {
        "dataframeName": "_sqldf",
        "executionCount": 21
       },
       "overflow": false,
       "plotOptions": {
        "customPlotOptions": {},
        "displayType": "table",
        "pivotAggregation": null,
        "pivotColumns": null,
        "xColumns": null,
        "yColumns": null
       },
       "removedWidgets": [],
       "schema": [
        {
         "metadata": "{}",
         "name": "ConstituentID",
         "type": "\"string\""
        },
        {
         "metadata": "{}",
         "name": "FirstName",
         "type": "\"string\""
        },
        {
         "metadata": "{}",
         "name": "KeyName",
         "type": "\"string\""
        },
        {
         "metadata": "{}",
         "name": "MiddleName",
         "type": "\"string\""
        },
        {
         "metadata": "{}",
         "name": "MaidenName",
         "type": "\"string\""
        },
        {
         "metadata": "{}",
         "name": "Nickname",
         "type": "\"string\""
        },
        {
         "metadata": "{}",
         "name": "Birthdate",
         "type": "\"date\""
        },
        {
         "metadata": "{}",
         "name": "Gender",
         "type": "\"string\""
        },
        {
         "metadata": "{}",
         "name": "LookupID",
         "type": "\"string\""
        },
        {
         "metadata": "{}",
         "name": "Title1",
         "type": "\"string\""
        },
        {
         "metadata": "{}",
         "name": "Title2",
         "type": "\"string\""
        },
        {
         "metadata": "{}",
         "name": "Suffix1",
         "type": "\"string\""
        },
        {
         "metadata": "{}",
         "name": "Suffix2",
         "type": "\"string\""
        },
        {
         "metadata": "{}",
         "name": "DeceasedDate",
         "type": "\"date\""
        },
        {
         "metadata": "{}",
         "name": "IsDeceased",
         "type": "\"string\""
        },
        {
         "metadata": "{}",
         "name": "Status",
         "type": "\"string\""
        },
        {
         "metadata": "{}",
         "name": "InactiveReason",
         "type": "\"string\""
        },
        {
         "metadata": "{}",
         "name": "GivesAnonymously",
         "type": "\"string\""
        },
        {
         "metadata": "{}",
         "name": "SpouseID",
         "type": "\"string\""
        },
        {
         "metadata": "{}",
         "name": "Area",
         "type": "\"string\""
        },
        {
         "metadata": "{}",
         "name": "AreaManager",
         "type": "\"string\""
        },
        {
         "metadata": "{}",
         "name": "Patch",
         "type": "\"string\""
        },
        {
         "metadata": "{}",
         "name": "PatchManager",
         "type": "\"string\""
        },
        {
         "metadata": "{}",
         "name": "DateAdded",
         "type": "\"timestamp\""
        },
        {
         "metadata": "{}",
         "name": "DateChanged",
         "type": "\"timestamp\""
        },
        {
         "metadata": "{}",
         "name": "PrimaryEmail",
         "type": "\"string\""
        },
        {
         "metadata": "{}",
         "name": "PrimaryPostcode",
         "type": "\"string\""
        },
        {
         "metadata": "{}",
         "name": "Name",
         "type": "\"string\""
        },
        {
         "metadata": "{}",
         "name": "Delete",
         "type": "\"string\""
        },
        {
         "metadata": "{}",
         "name": "YYYY",
         "type": "\"integer\""
        },
        {
         "metadata": "{}",
         "name": "MM",
         "type": "\"integer\""
        },
        {
         "metadata": "{}",
         "name": "DD",
         "type": "\"integer\""
        },
        {
         "metadata": "{}",
         "name": "HH",
         "type": "\"integer\""
        }
       ],
       "type": "table"
      }
     },
     "output_type": "display_data"
    }
   ],
   "source": [
    "%sql\n",
    "select * from deltaondbricks.contacts -- where FirstName like 'Abraham%'"
   ]
  },
  {
   "cell_type": "markdown",
   "metadata": {
    "application/vnd.databricks.v1+cell": {
     "cellMetadata": {
      "byteLimit": 2048000,
      "rowLimit": 10000
     },
     "inputWidgets": {},
     "nuid": "1c6b9cf0-2c07-4683-8578-821b0551c43f",
     "showTitle": false,
     "title": ""
    }
   },
   "source": [
    "####  Clean up if you want\n",
    "Use this code if you want to delete everything"
   ]
  },
  {
   "cell_type": "code",
   "execution_count": 0,
   "metadata": {
    "application/vnd.databricks.v1+cell": {
     "cellMetadata": {
      "byteLimit": 2048000,
      "implicitDf": true,
      "rowLimit": 10000
     },
     "inputWidgets": {},
     "nuid": "9e65ead4-7923-417a-b58a-2e0af0a8c36e",
     "showTitle": false,
     "title": ""
    }
   },
   "outputs": [],
   "source": [
    "%sql\n",
    "-- DROP TABLE deltaondbricks.staging_contacts;\n",
    "-- DROP TABLE deltaondbricks.contacts;\n",
    "-- DROP DATABASE IF EXISTS deltaondbricks CASCADE;"
   ]
  }
 ],
 "metadata": {
  "application/vnd.databricks.v1+notebook": {
   "dashboards": [],
   "language": "python",
   "notebookMetadata": {
    "mostRecentlyExecutedCommandWithImplicitDF": {
     "commandId": 1097121566555608,
     "dataframes": [
      "_sqldf"
     ]
    },
    "pythonIndentUnit": 4
   },
   "notebookName": "Delta Merge Workout",
   "widgets": {
    "FileName": {
     "currentValue": "contacts_20221022_0938_29_Contacts.csv",
     "nuid": "f15506b2-da94-47f6-b17b-8a393d57884b",
     "typedWidgetInfo": null,
     "widgetInfo": {
      "widgetType": "text",
      "defaultValue": "contacts_20221022_0938_29_Contacts.csv",
      "label": null,
      "name": "FileName",
      "options": {
       "widgetType": "text",
       "autoCreated": null,
       "validationRegex": null
      }
     }
    }
   }
  },
  "kernel_info": {
   "name": "synapse_pyspark"
  },
  "kernelspec": {
   "display_name": "Synapse PySpark",
   "language": "Python",
   "name": "synapse_pyspark"
  },
  "language_info": {
   "name": "python"
  },
  "save_output": true,
  "synapse_widget": {
   "state": {
    "71820494-4f08-4064-a23e-bd23fda7be46": {
     "persist_state": {
      "view": {
       "chartOptions": {
        "aggregationType": "count",
        "categoryFieldKeys": [
         "0"
        ],
        "chartType": "bar",
        "isStacked": false,
        "seriesFieldKeys": [
         "0"
        ]
       },
       "tableOptions": {},
       "type": "details"
      }
     },
     "sync_state": {
      "isSummary": false,
      "language": "scala",
      "table": {
       "rows": [
        {
         "0": "0126f49e-4059-4f62-b401-00ac78293ebd",
         "1": "Rylee ",
         "14": "No",
         "15": "Active",
         "17": "No",
         "2": " Bandini",
         "21": "Buckinghamshire & Oxfordshire",
         "23": "2022-10-20 09:39:01",
         "24": "2022-10-23 09:39:01",
         "25": "yory@leeband.gov.uk",
         "26": "BL1 4DN",
         "27": "Rylee Bandini",
         "28": "No",
         "29": "2022",
         "30": "10",
         "31": "23",
         "32": "09",
         "6": "01/01/1982",
         "7": "Female",
         "8": "8-23111968",
         "9": "Mrs"
        },
        {
         "0": "007bc6fb-1034-475e-9cd0-0055ccd99966",
         "1": "Aaron ",
         "14": "No",
         "15": "Active",
         "17": "No",
         "2": " McKenna",
         "23": "2022-10-20 09:39:01",
         "24": "2022-10-23 09:39:01",
         "26": "NN4 5DQ",
         "27": "Aaron McKenna",
         "28": "Yes",
         "29": "2022",
         "30": "10",
         "31": "23",
         "32": "09",
         "6": "22/03/1981",
         "7": "Female",
         "8": "8-18864825",
         "9": "Mrs"
        },
        {
         "0": "8888f49e-4059-4f62-b401-00ac78293ebd",
         "1": "BillyBob",
         "14": "No",
         "2": "Thorky",
         "23": "2022-10-20 09:39:01",
         "24": "2022-10-23 09:39:01",
         "26": "CB6 5TY",
         "27": "BillyBob Thorky",
         "28": "No",
         "29": "2022",
         "30": "10",
         "31": "23",
         "32": "09",
         "6": "01/01/1982",
         "7": "Male",
         "8": "9-000000",
         "9": "Dr"
        }
       ],
       "schema": [
        {
         "key": "0",
         "name": "ConstituentID",
         "type": "string"
        },
        {
         "key": "1",
         "name": "FirstName",
         "type": "string"
        },
        {
         "key": "2",
         "name": "KeyName",
         "type": "string"
        },
        {
         "key": "3",
         "name": "MiddleName",
         "type": "string"
        },
        {
         "key": "4",
         "name": "MaidenName",
         "type": "string"
        },
        {
         "key": "5",
         "name": "Nickname",
         "type": "string"
        },
        {
         "key": "6",
         "name": "Birthdate",
         "type": "string"
        },
        {
         "key": "7",
         "name": "Gender",
         "type": "string"
        },
        {
         "key": "8",
         "name": "LookupID",
         "type": "string"
        },
        {
         "key": "9",
         "name": "Title1",
         "type": "string"
        },
        {
         "key": "10",
         "name": "Title2",
         "type": "string"
        },
        {
         "key": "11",
         "name": "Suffix1",
         "type": "string"
        },
        {
         "key": "12",
         "name": "Suffix2",
         "type": "string"
        },
        {
         "key": "13",
         "name": "DeceasedDate",
         "type": "string"
        },
        {
         "key": "14",
         "name": "IsDeceased",
         "type": "string"
        },
        {
         "key": "15",
         "name": "Status",
         "type": "string"
        },
        {
         "key": "16",
         "name": "InactiveReason",
         "type": "string"
        },
        {
         "key": "17",
         "name": "GivesAnonymously",
         "type": "string"
        },
        {
         "key": "18",
         "name": "SpouseID",
         "type": "string"
        },
        {
         "key": "19",
         "name": "Area",
         "type": "string"
        },
        {
         "key": "20",
         "name": "AreaManager",
         "type": "string"
        },
        {
         "key": "21",
         "name": "Patch",
         "type": "string"
        },
        {
         "key": "22",
         "name": "PatchManager",
         "type": "string"
        },
        {
         "key": "23",
         "name": "DateAdded",
         "type": "string"
        },
        {
         "key": "24",
         "name": "DateChanged",
         "type": "string"
        },
        {
         "key": "25",
         "name": "PrimaryEmail",
         "type": "string"
        },
        {
         "key": "26",
         "name": "PrimaryPostcode",
         "type": "string"
        },
        {
         "key": "27",
         "name": "Name",
         "type": "string"
        },
        {
         "key": "28",
         "name": "Delete",
         "type": "string"
        },
        {
         "key": "29",
         "name": "YYYY",
         "type": "string"
        },
        {
         "key": "30",
         "name": "MM",
         "type": "string"
        },
        {
         "key": "31",
         "name": "DD",
         "type": "string"
        },
        {
         "key": "32",
         "name": "HH",
         "type": "string"
        }
       ],
       "truncated": false
      }
     },
     "type": "Synapse.DataFrame"
    }
   },
   "version": "0.1"
  }
 },
 "nbformat": 4,
 "nbformat_minor": 0
}
